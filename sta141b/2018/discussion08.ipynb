{
 "cells": [
  {
   "cell_type": "markdown",
   "metadata": {},
   "source": [
    "# Week 8 Discussion\n",
    "\n",
    "## Infographic\n",
    "\n",
    "* [The Pudding](https://pudding.cool/)\n",
    "* [The State of The Pudding, 2018](https://medium.com/@matthew_daniels/the-state-of-the-pudding-2018-9661ab4d299c)\n",
    "\n",
    "## Links\n",
    "\n",
    "* [MDN HTML Reference](https://developer.mozilla.org/en-US/docs/Web/HTML/Element)\n",
    "* [CSS Diner](https://flukeout.github.io/) -- an interactive CSS Selector tutorial\n",
    "* [XPath Diner](http://www.topswagcode.com/xpath/) -- an interactive XPath tutorial\n",
    "* [Wiki's XPath Page][xpath]\n",
    "* [Python's Regular Expression HOWTO](https://docs.python.org/3/howto/regex.html#regex-howto)\n",
    "\n",
    "__Next week only:__ my office hours will be at a different time (TBA soon on Slack).\n",
    "\n",
    "[xpath]: https://en.wikipedia.org/wiki/XPath#Syntax_and_semantics_(XPath_1.0)"
   ]
  },
  {
   "cell_type": "markdown",
   "metadata": {},
   "source": [
    "## Web Scraping\n",
    "\n",
    "Basic web scraping workflow:\n",
    "\n",
    "1. Download pages\n",
    "2. _Parse_ pages to extract text\n",
    "3. Clean up extracted text\n",
    "4. Store cleaned results\n",
    "5. Analyze results\n",
    "\n",
    "This workflow is the same regardless of the packages and language you're using."
   ]
  },
  {
   "cell_type": "markdown",
   "metadata": {},
   "source": [
    "### In Python\n",
    "\n",
    "We've already seen how to use [requests][] (with [requests_cache][]) to download pages (use a `GET` request).\n",
    "\n",
    "The packages [lxml][] and [Beautiful Soup][bs4] can parse web pages. Choose one for the entire scrape, since they are not compatible with each other.\n",
    "\n",
    "You can clean up extracted text with [string methods][str], [re][], and [pandas][]. Sometimes you'll also need to use natural language processing packages.\n",
    "\n",
    "The [scrapy][] and [pattern][] packages try to automate steps 1-4. They can save you time _after_ you understand the basics of scraping.\n",
    "\n",
    "[requests]: http://docs.python-requests.org/en/master/\n",
    "[requests_cache]: https://requests-cache.readthedocs.io/en/latest/\n",
    "\n",
    "[lxml]: http://lxml.de/lxmlhtml.html\n",
    "[bs4]: https://www.crummy.com/software/BeautifulSoup/bs4/doc/\n",
    "\n",
    "[str]: https://docs.python.org/3/library/stdtypes.html#string-methods\n",
    "[re]: https://docs.python.org/3/library/re.html\n",
    "[pandas]: http://pandas.pydata.org/pandas-docs/stable/\n",
    "\n",
    "[scrapy]: https://scrapy.org/\n",
    "[pattern]: https://www.clips.uantwerpen.be/pages/pattern"
   ]
  },
  {
   "cell_type": "markdown",
   "metadata": {},
   "source": [
    "### What makes a web page?\n",
    "\n",
    "Web pages are written in hypertext markup language (HTML).\n",
    "\n",
    "In HTML, text is surrounded by _tags_ to mark formatting. Tags are written inside of angle brackets `< >`. For example,  to mark some text as bold:\n",
    "```html\n",
    "This is a <b>cat</b>!\n",
    "```\n",
    "\n",
    "Tags usually come in pairs; the second tag (with `/`) is called a _closing tag_ and marks the end of the formatting.\n",
    "\n",
    "Tags often have additional information as _attributes_. For example, links have an `href` attribute to specify the URL to link to:\n",
    "```html\n",
    "This <a href=\"https://www.youtube.com/watch?v=dQw4w9WgXcQ\">page</a> is famous.\n",
    "```\n",
    "\n",
    "A longer example of a web page is:"
   ]
  },
  {
   "cell_type": "code",
   "execution_count": 6,
   "metadata": {},
   "outputs": [],
   "source": [
    "doc = \"\"\"\n",
    "<html>\n",
    "<head>\n",
    "<title>This is the Title!</title>\n",
    "</head>\n",
    "\n",
    "<body>\n",
    "<p>This is a paragraph!</p>\n",
    "<p id=\"best-paragraph\">This is another paragraph!</p>\n",
    "<p>Visit <a href=\"http://www.google.com\">Google</a>.</p>\n",
    "<span>This is a span. ❤️ </span>\n",
    "</body>\n",
    "</html>\n",
    "\"\"\""
   ]
  },
  {
   "cell_type": "markdown",
   "metadata": {},
   "source": [
    "Firefox and Chrome come with (web) developer tools. You can use these to inspect a web page.\n",
    "\n",
    "Open the tools with `ctrl`-`shift`-`i` (or `cmd`-`shift`-`i` on OS X)."
   ]
  },
  {
   "cell_type": "markdown",
   "metadata": {},
   "source": [
    "### Finding Tags\n",
    "\n",
    "Tags are nested, so an HTML document is like a tree:\n",
    "```\n",
    "html\n",
    "├── head\n",
    "│   └── title\n",
    "└── body\n",
    "    ├── p\n",
    "    ├── p\n",
    "    ├── p\n",
    "    │   └── a\n",
    "    └── span\n",
    "```\n",
    "This is similar to the file system on your computer. The key difference is that tags at the same level can have the same name.\n",
    "\n",
    "XPath lets us write a path to a tag the same way we would to a file:"
   ]
  },
  {
   "cell_type": "code",
   "execution_count": 8,
   "metadata": {},
   "outputs": [
    {
     "data": {
      "text/plain": [
       "[<Element head at 0x7fe6084bb7c8>]"
      ]
     },
     "execution_count": 8,
     "metadata": {},
     "output_type": "execute_result"
    }
   ],
   "source": [
    "import lxml.html as lx\n",
    "\n",
    "html = lx.fromstring(doc)\n",
    "\n",
    "html.xpath(\"/html/head\")"
   ]
  },
  {
   "cell_type": "markdown",
   "metadata": {},
   "source": [
    "Since tags can have the same name, we get a list rather than a single tag.\n",
    "\n",
    "Absolute paths are not convenient (and not robust) for scraping.\n",
    "\n",
    "In XPath, `//` means \"anywhere below\":"
   ]
  },
  {
   "cell_type": "code",
   "execution_count": 9,
   "metadata": {},
   "outputs": [
    {
     "data": {
      "text/plain": [
       "[<Element p at 0x7fe5f946d368>,\n",
       " <Element p at 0x7fe5f946d958>,\n",
       " <Element p at 0x7fe5f946d9a8>]"
      ]
     },
     "execution_count": 9,
     "metadata": {},
     "output_type": "execute_result"
    }
   ],
   "source": [
    "html.xpath(\"/html//p\")"
   ]
  },
  {
   "cell_type": "markdown",
   "metadata": {},
   "source": [
    "Use `[ ]` to put a condition on a tag:"
   ]
  },
  {
   "cell_type": "code",
   "execution_count": 10,
   "metadata": {},
   "outputs": [
    {
     "data": {
      "text/plain": [
       "[<Element p at 0x7fe5f946d958>]"
      ]
     },
     "execution_count": 10,
     "metadata": {},
     "output_type": "execute_result"
    }
   ],
   "source": [
    "html.xpath(\"//p[@id = 'best-paragraph']\")"
   ]
  },
  {
   "cell_type": "markdown",
   "metadata": {},
   "source": [
    "XPath is not Python-specific!\n",
    "\n",
    "CSS Selectors are an alternative to XPath. They're less powerful but more concise:"
   ]
  },
  {
   "cell_type": "code",
   "execution_count": 13,
   "metadata": {},
   "outputs": [
    {
     "data": {
      "text/plain": [
       "[<Element p at 0x7fe5f946d958>]"
      ]
     },
     "execution_count": 13,
     "metadata": {},
     "output_type": "execute_result"
    }
   ],
   "source": [
    "html.cssselect(\"p#best-paragraph\")"
   ]
  },
  {
   "cell_type": "markdown",
   "metadata": {},
   "source": [
    "### Example: Scraping Hacker News\n",
    "\n",
    "Let's scrape <https://news.ycombinator.com/>"
   ]
  },
  {
   "cell_type": "code",
   "execution_count": 3,
   "metadata": {},
   "outputs": [
    {
     "data": {
      "text/html": [
       "<div>\n",
       "<style scoped>\n",
       "    .dataframe tbody tr th:only-of-type {\n",
       "        vertical-align: middle;\n",
       "    }\n",
       "\n",
       "    .dataframe tbody tr th {\n",
       "        vertical-align: top;\n",
       "    }\n",
       "\n",
       "    .dataframe thead th {\n",
       "        text-align: right;\n",
       "    }\n",
       "</style>\n",
       "<table border=\"1\" class=\"dataframe\">\n",
       "  <thead>\n",
       "    <tr style=\"text-align: right;\">\n",
       "      <th></th>\n",
       "      <th>comments</th>\n",
       "      <th>titles</th>\n",
       "    </tr>\n",
       "  </thead>\n",
       "  <tbody>\n",
       "    <tr>\n",
       "      <th>0</th>\n",
       "      <td>45 comments</td>\n",
       "      <td>Spotify IPO filing: Form F-1</td>\n",
       "    </tr>\n",
       "    <tr>\n",
       "      <th>1</th>\n",
       "      <td>60 comments</td>\n",
       "      <td>Triplebyte Raises $10M from Initialized Capita...</td>\n",
       "    </tr>\n",
       "    <tr>\n",
       "      <th>2</th>\n",
       "      <td>43 comments</td>\n",
       "      <td>How Inmates Play Tabletop RPGs in Prisons Wher...</td>\n",
       "    </tr>\n",
       "    <tr>\n",
       "      <th>3</th>\n",
       "      <td>17 comments</td>\n",
       "      <td>Clock error lead to death of 28 Soldiers. Soft...</td>\n",
       "    </tr>\n",
       "    <tr>\n",
       "      <th>4</th>\n",
       "      <td>263 comments</td>\n",
       "      <td>The Makefile I use with JavaScript projects</td>\n",
       "    </tr>\n",
       "  </tbody>\n",
       "</table>\n",
       "</div>"
      ],
      "text/plain": [
       "       comments                                             titles\n",
       "0   45 comments                       Spotify IPO filing: Form F-1\n",
       "1   60 comments  Triplebyte Raises $10M from Initialized Capita...\n",
       "2   43 comments  How Inmates Play Tabletop RPGs in Prisons Wher...\n",
       "3   17 comments  Clock error lead to death of 28 Soldiers. Soft...\n",
       "4  263 comments        The Makefile I use with JavaScript projects"
      ]
     },
     "execution_count": 3,
     "metadata": {},
     "output_type": "execute_result"
    }
   ],
   "source": [
    "import lxml.html as lx\n",
    "import pandas as pd\n",
    "import requests\n",
    "import requests_cache\n",
    "\n",
    "requests_cache.install_cache(\"cache\")\n",
    "\n",
    "# Step 1: download\n",
    "url = \"https://news.ycombinator.com/\"\n",
    "response = requests.get(url)\n",
    "response.raise_for_status()\n",
    "doc = response.text\n",
    "\n",
    "# Step 2: parse\n",
    "html = lx.fromstring(doc, base_url = url)\n",
    "html.make_links_absolute()\n",
    "\n",
    "links = html.xpath(\"//a[@class = 'storylink']\")\n",
    "titles = [x.text_content() for x in links]\n",
    "\n",
    "sublinks = html.xpath(\"//td[@class = 'subtext']/a[last()]\")\n",
    "comments = [x.text_content() for x in sublinks]\n",
    "\n",
    "# Step 3: clean\n",
    "result = pd.DataFrame({\"titles\": titles, \"comments\": comments})\n",
    "\n",
    "result.head()"
   ]
  },
  {
   "cell_type": "markdown",
   "metadata": {},
   "source": [
    "## Regular Expressions\n",
    "\n",
    "Python's built-in string methods are very powerful and very fast:"
   ]
  },
  {
   "cell_type": "code",
   "execution_count": 31,
   "metadata": {},
   "outputs": [
    {
     "data": {
      "text/plain": [
       "['This', 'is', 'my', 'text']"
      ]
     },
     "execution_count": 31,
     "metadata": {},
     "output_type": "execute_result"
    }
   ],
   "source": [
    "x = \"This is my text\"\n",
    "x.split()"
   ]
  },
  {
   "cell_type": "markdown",
   "metadata": {},
   "source": [
    "Most of them can also be used with pandas:"
   ]
  },
  {
   "cell_type": "code",
   "execution_count": 35,
   "metadata": {},
   "outputs": [
    {
     "data": {
      "text/html": [
       "<div>\n",
       "<style scoped>\n",
       "    .dataframe tbody tr th:only-of-type {\n",
       "        vertical-align: middle;\n",
       "    }\n",
       "\n",
       "    .dataframe tbody tr th {\n",
       "        vertical-align: top;\n",
       "    }\n",
       "\n",
       "    .dataframe thead th {\n",
       "        text-align: right;\n",
       "    }\n",
       "</style>\n",
       "<table border=\"1\" class=\"dataframe\">\n",
       "  <thead>\n",
       "    <tr style=\"text-align: right;\">\n",
       "      <th></th>\n",
       "      <th>comments</th>\n",
       "      <th>titles</th>\n",
       "      <th>comment_count</th>\n",
       "    </tr>\n",
       "  </thead>\n",
       "  <tbody>\n",
       "    <tr>\n",
       "      <th>0</th>\n",
       "      <td>45 comments</td>\n",
       "      <td>Spotify IPO filing: Form F-1</td>\n",
       "      <td>45</td>\n",
       "    </tr>\n",
       "    <tr>\n",
       "      <th>1</th>\n",
       "      <td>60 comments</td>\n",
       "      <td>Triplebyte Raises $10M from Initialized Capita...</td>\n",
       "      <td>60</td>\n",
       "    </tr>\n",
       "    <tr>\n",
       "      <th>2</th>\n",
       "      <td>43 comments</td>\n",
       "      <td>How Inmates Play Tabletop RPGs in Prisons Wher...</td>\n",
       "      <td>43</td>\n",
       "    </tr>\n",
       "    <tr>\n",
       "      <th>3</th>\n",
       "      <td>17 comments</td>\n",
       "      <td>Clock error lead to death of 28 Soldiers. Soft...</td>\n",
       "      <td>17</td>\n",
       "    </tr>\n",
       "    <tr>\n",
       "      <th>4</th>\n",
       "      <td>263 comments</td>\n",
       "      <td>The Makefile I use with JavaScript projects</td>\n",
       "      <td>263</td>\n",
       "    </tr>\n",
       "  </tbody>\n",
       "</table>\n",
       "</div>"
      ],
      "text/plain": [
       "       comments                                             titles  \\\n",
       "0   45 comments                       Spotify IPO filing: Form F-1   \n",
       "1   60 comments  Triplebyte Raises $10M from Initialized Capita...   \n",
       "2   43 comments  How Inmates Play Tabletop RPGs in Prisons Wher...   \n",
       "3   17 comments  Clock error lead to death of 28 Soldiers. Soft...   \n",
       "4  263 comments        The Makefile I use with JavaScript projects   \n",
       "\n",
       "  comment_count  \n",
       "0            45  \n",
       "1            60  \n",
       "2            43  \n",
       "3            17  \n",
       "4           263  "
      ]
     },
     "execution_count": 35,
     "metadata": {},
     "output_type": "execute_result"
    }
   ],
   "source": [
    "result[\"comment_count\"] = result.comments.str.split().str.get(0)\n",
    "result.head()"
   ]
  },
  {
   "cell_type": "code",
   "execution_count": 39,
   "metadata": {},
   "outputs": [
    {
     "data": {
      "text/html": [
       "<div>\n",
       "<style scoped>\n",
       "    .dataframe tbody tr th:only-of-type {\n",
       "        vertical-align: middle;\n",
       "    }\n",
       "\n",
       "    .dataframe tbody tr th {\n",
       "        vertical-align: top;\n",
       "    }\n",
       "\n",
       "    .dataframe thead th {\n",
       "        text-align: right;\n",
       "    }\n",
       "</style>\n",
       "<table border=\"1\" class=\"dataframe\">\n",
       "  <thead>\n",
       "    <tr style=\"text-align: right;\">\n",
       "      <th></th>\n",
       "      <th>comments</th>\n",
       "      <th>titles</th>\n",
       "      <th>comment_count</th>\n",
       "    </tr>\n",
       "  </thead>\n",
       "  <tbody>\n",
       "    <tr>\n",
       "      <th>0</th>\n",
       "      <td>45 comments</td>\n",
       "      <td>Spotify IPO filing: Form F-1</td>\n",
       "      <td>45.0</td>\n",
       "    </tr>\n",
       "    <tr>\n",
       "      <th>1</th>\n",
       "      <td>60 comments</td>\n",
       "      <td>Triplebyte Raises $10M from Initialized Capita...</td>\n",
       "      <td>60.0</td>\n",
       "    </tr>\n",
       "    <tr>\n",
       "      <th>2</th>\n",
       "      <td>43 comments</td>\n",
       "      <td>How Inmates Play Tabletop RPGs in Prisons Wher...</td>\n",
       "      <td>43.0</td>\n",
       "    </tr>\n",
       "    <tr>\n",
       "      <th>3</th>\n",
       "      <td>17 comments</td>\n",
       "      <td>Clock error lead to death of 28 Soldiers. Soft...</td>\n",
       "      <td>17.0</td>\n",
       "    </tr>\n",
       "    <tr>\n",
       "      <th>4</th>\n",
       "      <td>263 comments</td>\n",
       "      <td>The Makefile I use with JavaScript projects</td>\n",
       "      <td>263.0</td>\n",
       "    </tr>\n",
       "  </tbody>\n",
       "</table>\n",
       "</div>"
      ],
      "text/plain": [
       "       comments                                             titles  \\\n",
       "0   45 comments                       Spotify IPO filing: Form F-1   \n",
       "1   60 comments  Triplebyte Raises $10M from Initialized Capita...   \n",
       "2   43 comments  How Inmates Play Tabletop RPGs in Prisons Wher...   \n",
       "3   17 comments  Clock error lead to death of 28 Soldiers. Soft...   \n",
       "4  263 comments        The Makefile I use with JavaScript projects   \n",
       "\n",
       "   comment_count  \n",
       "0           45.0  \n",
       "1           60.0  \n",
       "2           43.0  \n",
       "3           17.0  \n",
       "4          263.0  "
      ]
     },
     "execution_count": 39,
     "metadata": {},
     "output_type": "execute_result"
    }
   ],
   "source": [
    "result[\"comment_count\"] = pd.to_numeric(result.comment_count, errors = \"coerce\")\n",
    "result.head()"
   ]
  },
  {
   "cell_type": "markdown",
   "metadata": {},
   "source": [
    "Sometimes we need to extract more complicated patterns.\n",
    "\n",
    "In that case, we can use _regular expressions_. Regular expressions (or regex) is a language for describing patterns. It is not Python-specific.\n",
    "\n",
    "You can use regular expressions with the built-in `re` module or any of the pandas string methods."
   ]
  },
  {
   "cell_type": "markdown",
   "metadata": {},
   "source": [
    "### Regex Syntax\n",
    "\n",
    "In regular expressions, letters, numbers, and spaces are matched literally.\n",
    "\n",
    "Other characters have special meanings:\n",
    "\n",
    "Character | Description\n",
    "--------- | -----------\n",
    "`.`       | any 1 character\n",
    "`[ ]`     | any 1 character listed\n",
    "`?`       | repeat previous 0 or 1 times\n",
    "`*`       | repeat previous 0 or more times\n",
    "`+`       | repeat previous 1 or more times\n",
    "`^`       | start of string\n",
    "`$`       | end of string"
   ]
  },
  {
   "cell_type": "code",
   "execution_count": 43,
   "metadata": {},
   "outputs": [
    {
     "data": {
      "text/plain": [
       "['a', 'a', 'a', 'a']"
      ]
     },
     "execution_count": 43,
     "metadata": {},
     "output_type": "execute_result"
    }
   ],
   "source": [
    "import re\n",
    "\n",
    "re.findall(\"a\", \"aaaba\")"
   ]
  },
  {
   "cell_type": "code",
   "execution_count": 46,
   "metadata": {},
   "outputs": [
    {
     "data": {
      "text/plain": [
       "['aaa', 'a']"
      ]
     },
     "execution_count": 46,
     "metadata": {},
     "output_type": "execute_result"
    }
   ],
   "source": [
    "re.findall(\"a+\", \"aaaba\")"
   ]
  },
  {
   "cell_type": "markdown",
   "metadata": {},
   "source": [
    "You can match a special character literally by putting a backslash `\\` in front of it.\n",
    "\n",
    "The backslash `\\` also has a special meaning to Python, so in an ordinary string we'd have to use two backslashes:\n",
    "```\n",
    "\"\\\\.\"\n",
    "```\n",
    "This is so annoying that Python also supports _raw strings_, where backslash has no special meaning (to Python). These have an `r` before the quote character.\n",
    "\n",
    "Use raw strings for your regular expressions. Then you can just write:\n",
    "```\n",
    "r\"\\.\"\n",
    "```"
   ]
  },
  {
   "cell_type": "code",
   "execution_count": 47,
   "metadata": {},
   "outputs": [
    {
     "data": {
      "text/plain": [
       "['*y']"
      ]
     },
     "execution_count": 47,
     "metadata": {},
     "output_type": "execute_result"
    }
   ],
   "source": [
    "re.findall(r\"\\*[a-z]\", \"x*y\")"
   ]
  },
  {
   "cell_type": "markdown",
   "metadata": {},
   "source": [
    "Next week's discussion will have more examples of regular expressions, and also some examples of natural language processing."
   ]
  },
  {
   "cell_type": "markdown",
   "metadata": {},
   "source": [
    "## Scrape Wisely\n",
    "\n",
    "Before you scrape, is there an easier way to get the data? A direct data download? A web API?"
   ]
  },
  {
   "cell_type": "markdown",
   "metadata": {},
   "source": [
    "__Q:__ How do I scrape the \"next page\" (for example, in a news listing)?\n",
    "\n",
    "__A:__ The link to the next page is on the first page, so have your scraper get that link. Then use a loop."
   ]
  },
  {
   "cell_type": "markdown",
   "metadata": {},
   "source": [
    "__Q:__ I tried scraping a web page but what I see in my browser doesn't match what I see in the request response. What's going on? ([example](https://ucannualwage.ucop.edu/wage/))\n",
    "\n",
    "__A:__ Several things could cause this.\n",
    "\n",
    "Most likely is that web page has JavaScript code that displays the data. Your web browser runs the code, but a simple HTTP request does not. If the JavaScript gets the data from a web API, try to reverse-engineer the API (you can figure this out with the \"Network\" tab in the browser dev tools).\n",
    "\n",
    "If the JavaScript doesn't use a web API, you can use tools like [selenium][] or [pyppeteer][] to control the browser from Python. The disadvantage is that this can be very slow if you need to scrape a lot of pages.\n",
    "\n",
    "Some web pages are deliberately hard to scrape because the owners don't want you to have their data.\n",
    "\n",
    "[selenium]: http://selenium-python.readthedocs.io/\n",
    "[pyppeteer]: https://github.com/miyakogi/pyppeteer"
   ]
  },
  {
   "cell_type": "markdown",
   "metadata": {},
   "source": [
    "__Q:__ How do I scrape a page where I have to log in?\n",
    "\n",
    "__A:__ Use selenium or pyppeteer, as mentioned above."
   ]
  }
 ],
 "metadata": {
  "kernelspec": {
   "display_name": "Python 3",
   "language": "python",
   "name": "python3"
  },
  "language_info": {
   "codemirror_mode": {
    "name": "ipython",
    "version": 3
   },
   "file_extension": ".py",
   "mimetype": "text/x-python",
   "name": "python",
   "nbconvert_exporter": "python",
   "pygments_lexer": "ipython3",
   "version": "3.6.4"
  }
 },
 "nbformat": 4,
 "nbformat_minor": 2
}
